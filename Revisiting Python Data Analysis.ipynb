{
 "cells": [
  {
   "cell_type": "markdown",
   "metadata": {},
   "source": [
    "# Revisiting Python Data Analysis for 2018"
   ]
  },
  {
   "cell_type": "code",
   "execution_count": 2,
   "metadata": {},
   "outputs": [
    {
     "name": "stdout",
     "output_type": "stream",
     "text": [
      "yo I did a thing\n"
     ]
    }
   ],
   "source": [
    "print(\"yo I did a thing\")"
   ]
  },
  {
   "cell_type": "markdown",
   "metadata": {},
   "source": [
    "## Introduction\n",
    "\n",
    "At Pycon 2018 we learned a lot about the current state of data analysis using python.  This talk is our effort to share the important things that we learned so that we might apply them at the GBO."
   ]
  },
  {
   "cell_type": "markdown",
   "metadata": {},
   "source": [
    "## Resources\n",
    "\n",
    "   * [Pycon 2018 Channel](https://www.youtube.com/channel/UCsX05-2sVSH7Nx3zuk3NYuQ)\n",
    "   * [Pandas for data science tutorial](https://github.com/justmarkham/pycon-2018-tutorial), [video](https://www.youtube.com/watch?v=0hsKLYfyQZc)\n",
    "   * [DASK tutorial](https://github.com/TomAugspurger/dask-tutorial-pycon-2018), [video](https://www.youtube.com/watch?v=_UWRQZ3nFm0)\n",
    "   * [Intro to Python for Data Science tutorial](https://github.com/jseabold/pycon-ds-2018), [video](https://www.youtube.com/watch?v=W4WQi2OIy7o&t=94s)\n",
    "   * [Foundations of Numerical Python tutorial](https://github.com/ssanderson/foundations-of-numerical-computing/tree/master/ansible/files/materials), [video](https://www.youtube.com/watch?v=aGGbnMyeZs0)\n",
    "   * [Dask and Jupyter Hub talk](https://www.youtube.com/watch?v=Iq72dt1gO9c)\n",
    "   * [Seven ways to increase performance talk](https://www.youtube.com/watch?v=zQeYx87mfyw)\n",
    "\n"
   ]
  },
  {
   "cell_type": "markdown",
   "metadata": {},
   "source": [
    "## Overview of Tools\n",
    "\n",
    "Here's a brief overview of the tools we'll disucss, most of which we came across recently at Pycon 2018.  Some of them are familiar to us, while others are fairly new.  We'll go into detail about each one later.\n",
    "\n",
    "   * Numpy - we all know this package; it's still the foundation.\n",
    "   * Pandas - providing high-performance, easy-to-use data structures and data analysis tools for Python\n",
    "   * Xarray -  aims to bring the labeled data power of pandas to the physical sciences, by providing N-dimensional variants of the core pandas data structures.\n",
    "   * Astropy - a common core package for Astronomy in Python\n",
    "   * Jupyter - what this talk is written in.   Jupyter extends the console-based approach to interactive computing in a qualitatively new direction, providing a web-based application suitable for capturing the whole computation process."
   ]
  },
  {
   "cell_type": "markdown",
   "metadata": {},
   "source": [
    "## Numpy\n",
    "\n",
    "Pure python can be really slow for computations, especially on lists.  As a gross generalization, this is due to:\n",
    "   * overhead from dynamic typing\n",
    "   * overhead associated with each element of the list\n",
    "   \n",
    "So, Numpy can get you significant improvements, by 1) defining your data type, 2) removing the overhead from the element to just the list (vectorization).  Here's a simple demo that shows off some Jupyter magic:\n"
   ]
  },
  {
   "cell_type": "code",
   "execution_count": 3,
   "metadata": {},
   "outputs": [],
   "source": [
    "# define a function for simply doing the dot product of two vectors\n",
    "def python_dot_product(xs, ys):\n",
    "    return sum(x * y for x, y in zip(xs, ys))"
   ]
  },
  {
   "cell_type": "code",
   "execution_count": 5,
   "metadata": {},
   "outputs": [
    {
     "name": "stderr",
     "output_type": "stream",
     "text": [
      "UsageError: Cell magic `%%fortran` not found.\n"
     ]
    }
   ],
   "source": [
    "\n",
    "\n",
    "%%fortran\n",
    "subroutine fortran_dot_product(xs, ys, result)\n",
    "    double precision, intent(in) :: xs(:)\n",
    "    double precision, intent(in) :: ys(:)\n",
    "    double precision, intent(out) :: result\n",
    "    \n",
    "    result = sum(xs * ys)\n",
    "end\n",
    "\n"
   ]
  },
  {
   "cell_type": "code",
   "execution_count": 10,
   "metadata": {},
   "outputs": [],
   "source": [
    "\n",
    "# create a big list\n",
    "list_data = [float(i) for i in range(10000000)]"
   ]
  },
  {
   "cell_type": "code",
   "execution_count": 11,
   "metadata": {},
   "outputs": [
    {
     "name": "stdout",
     "output_type": "stream",
     "text": [
      "CPU times: user 1.17 s, sys: 4 ms, total: 1.18 s\n",
      "Wall time: 1.21 s\n"
     ]
    },
    {
     "data": {
      "text/plain": [
       "3.333332833337171e+20"
      ]
     },
     "execution_count": 11,
     "metadata": {},
     "output_type": "execute_result"
    }
   ],
   "source": [
    "# and see how long native python takes\n",
    "%%time \n",
    "python_dot_product(list_data, list_data)"
   ]
  },
  {
   "cell_type": "code",
   "execution_count": 12,
   "metadata": {},
   "outputs": [],
   "source": [
    "# now see how long numpy takes!\n",
    "import numpy as np\n",
    "array_data = np.array(list_data)"
   ]
  },
  {
   "cell_type": "code",
   "execution_count": 13,
   "metadata": {},
   "outputs": [
    {
     "name": "stdout",
     "output_type": "stream",
     "text": [
      "CPU times: user 15 ms, sys: 2 ms, total: 17 ms\n",
      "Wall time: 17.1 ms\n"
     ]
    },
    {
     "data": {
      "text/plain": [
       "3.333332833334263e+20"
      ]
     },
     "execution_count": 13,
     "metadata": {},
     "output_type": "execute_result"
    }
   ],
   "source": [
    "%%time\n",
    "array_data.dot(array_data)"
   ]
  },
  {
   "cell_type": "markdown",
   "metadata": {},
   "source": [
    "### Numpy Review\n",
    "\n",
    "It helps to keep these things in mind when getting the most out of Numpy:\n",
    "   * don't use for loops - make sure your algorithms are vectorized\n",
    "   * UFuncs are those fuctions and operations that can get applied across arrays efficiently, like +, -, or accumulate().\n",
    "   * Selections: you can still use python list slicing, but remember you can also index with boolean array to filter by a predicate (masking) \n",
    "   * Reductions - things like np.mean allow us to perform efficient aggregations over arrays\n",
    "   * Broadcasting - Numpy operations can work on arrays of different dimensions as long as the arrays' shapes are 'compatible'"
   ]
  },
  {
   "cell_type": "markdown",
   "metadata": {},
   "source": [
    "## Pandas\n",
    "\n",
    "\"A high-level tool for doing practical, real world data analysis in Python\"\n",
    "\n",
    "Show me, don't tell me; let's just do some example."
   ]
  },
  {
   "cell_type": "code",
   "execution_count": 21,
   "metadata": {},
   "outputs": [
    {
     "data": {
      "text/plain": [
       "pandas.core.frame.DataFrame"
      ]
     },
     "execution_count": 21,
     "metadata": {},
     "output_type": "execute_result"
    }
   ],
   "source": [
    "# let's examine some health inspection data using pandas\n",
    "import pandas as pd\n",
    "fn = \"pycon-ds-2018/data/health_inspection_chi.csv\"\n",
    "dta = pd.read_csv(fn)\n",
    "# we're using pandas DataFrames!\n",
    "type(dta)\n"
   ]
  },
  {
   "cell_type": "code",
   "execution_count": 15,
   "metadata": {},
   "outputs": [
    {
     "data": {
      "text/html": [
       "<div>\n",
       "<style scoped>\n",
       "    .dataframe tbody tr th:only-of-type {\n",
       "        vertical-align: middle;\n",
       "    }\n",
       "\n",
       "    .dataframe tbody tr th {\n",
       "        vertical-align: top;\n",
       "    }\n",
       "\n",
       "    .dataframe thead th {\n",
       "        text-align: right;\n",
       "    }\n",
       "</style>\n",
       "<table border=\"1\" class=\"dataframe\">\n",
       "  <thead>\n",
       "    <tr style=\"text-align: right;\">\n",
       "      <th></th>\n",
       "      <th>address</th>\n",
       "      <th>aka_name</th>\n",
       "      <th>city</th>\n",
       "      <th>dba_name</th>\n",
       "      <th>facility_type</th>\n",
       "      <th>inspection_date</th>\n",
       "      <th>inspection_id</th>\n",
       "      <th>inspection_type</th>\n",
       "      <th>latitude</th>\n",
       "      <th>license_</th>\n",
       "      <th>location</th>\n",
       "      <th>longitude</th>\n",
       "      <th>results</th>\n",
       "      <th>risk</th>\n",
       "      <th>state</th>\n",
       "      <th>violations</th>\n",
       "      <th>zip</th>\n",
       "    </tr>\n",
       "  </thead>\n",
       "  <tbody>\n",
       "    <tr>\n",
       "      <th>0</th>\n",
       "      <td>5255 W MADISON ST</td>\n",
       "      <td>RED SNAPPER FISH CHICKEN &amp; PIZZA</td>\n",
       "      <td>CHICAGO</td>\n",
       "      <td>RED SNAPPER FISH CHICKEN &amp; PIZZA</td>\n",
       "      <td>Restaurant</td>\n",
       "      <td>2016-09-26T00:00:00.000</td>\n",
       "      <td>1965287</td>\n",
       "      <td>Canvass</td>\n",
       "      <td>41.880237</td>\n",
       "      <td>1991820.0</td>\n",
       "      <td>{'type': 'Point', 'coordinates': [-87.75722039...</td>\n",
       "      <td>-87.757220</td>\n",
       "      <td>Pass w/ Conditions</td>\n",
       "      <td>Risk 1 (High)</td>\n",
       "      <td>IL</td>\n",
       "      <td>35. WALLS, CEILINGS, ATTACHED EQUIPMENT CONSTR...</td>\n",
       "      <td>60644.0</td>\n",
       "    </tr>\n",
       "    <tr>\n",
       "      <th>1</th>\n",
       "      <td>5958 W DIVERSEY AVE</td>\n",
       "      <td>TAQUERIA MORELOS</td>\n",
       "      <td>CHICAGO</td>\n",
       "      <td>TAQUERIA MORELOS</td>\n",
       "      <td>Restaurant</td>\n",
       "      <td>2014-02-06T00:00:00.000</td>\n",
       "      <td>1329698</td>\n",
       "      <td>Canvass</td>\n",
       "      <td>41.931250</td>\n",
       "      <td>2099479.0</td>\n",
       "      <td>{'type': 'Point', 'coordinates': [-87.77590699...</td>\n",
       "      <td>-87.775907</td>\n",
       "      <td>Pass</td>\n",
       "      <td>Risk 1 (High)</td>\n",
       "      <td>IL</td>\n",
       "      <td>33. FOOD AND NON-FOOD CONTACT EQUIPMENT UTENSI...</td>\n",
       "      <td>60639.0</td>\n",
       "    </tr>\n",
       "    <tr>\n",
       "      <th>2</th>\n",
       "      <td>5400-5402 N CLARK ST</td>\n",
       "      <td>HAMBURGER MARY'S/MARY'S REC ROOM</td>\n",
       "      <td>CHICAGO</td>\n",
       "      <td>HAMBURGER MARY'S CHICAGO/MARY'S REC ROOM</td>\n",
       "      <td>Restaurant</td>\n",
       "      <td>2010-12-03T00:00:00.000</td>\n",
       "      <td>470787</td>\n",
       "      <td>SFP</td>\n",
       "      <td>41.979884</td>\n",
       "      <td>1933748.0</td>\n",
       "      <td>{'type': 'Point', 'coordinates': [-87.66842948...</td>\n",
       "      <td>-87.668429</td>\n",
       "      <td>Fail</td>\n",
       "      <td>Risk 1 (High)</td>\n",
       "      <td>IL</td>\n",
       "      <td>6. HANDS WASHED AND CLEANED, GOOD HYGIENIC PRA...</td>\n",
       "      <td>60640.0</td>\n",
       "    </tr>\n",
       "    <tr>\n",
       "      <th>3</th>\n",
       "      <td>2804 N CLARK ST</td>\n",
       "      <td>Wells Street Popcorn</td>\n",
       "      <td>CHICAGO</td>\n",
       "      <td>Wells Street Popcorn</td>\n",
       "      <td>Restaurant</td>\n",
       "      <td>2010-02-01T00:00:00.000</td>\n",
       "      <td>68091</td>\n",
       "      <td>Canvass</td>\n",
       "      <td>41.932921</td>\n",
       "      <td>1954774.0</td>\n",
       "      <td>{'type': 'Point', 'coordinates': [-87.64515454...</td>\n",
       "      <td>-87.645155</td>\n",
       "      <td>Pass</td>\n",
       "      <td>Risk 2 (Medium)</td>\n",
       "      <td>IL</td>\n",
       "      <td>NaN</td>\n",
       "      <td>60657.0</td>\n",
       "    </tr>\n",
       "    <tr>\n",
       "      <th>4</th>\n",
       "      <td>2409 N WESTERN AVE</td>\n",
       "      <td>CHICAGO CUPCAKE</td>\n",
       "      <td>CHICAGO</td>\n",
       "      <td>CHICAGO CUPCAKE LLC.</td>\n",
       "      <td>Mobile Food Dispenser</td>\n",
       "      <td>2013-05-03T00:00:00.000</td>\n",
       "      <td>1335320</td>\n",
       "      <td>License Re-Inspection</td>\n",
       "      <td>41.925218</td>\n",
       "      <td>2232391.0</td>\n",
       "      <td>{'type': 'Point', 'coordinates': [-87.68750659...</td>\n",
       "      <td>-87.687507</td>\n",
       "      <td>Fail</td>\n",
       "      <td>Risk 3 (Low)</td>\n",
       "      <td>IL</td>\n",
       "      <td>32. FOOD AND NON-FOOD CONTACT SURFACES PROPERL...</td>\n",
       "      <td>60647.0</td>\n",
       "    </tr>\n",
       "  </tbody>\n",
       "</table>\n",
       "</div>"
      ],
      "text/plain": [
       "                 address                          aka_name     city  \\\n",
       "0     5255 W MADISON ST   RED SNAPPER FISH CHICKEN & PIZZA  CHICAGO   \n",
       "1   5958 W DIVERSEY AVE                   TAQUERIA MORELOS  CHICAGO   \n",
       "2  5400-5402 N CLARK ST   HAMBURGER MARY'S/MARY'S REC ROOM  CHICAGO   \n",
       "3       2804 N CLARK ST               Wells Street Popcorn  CHICAGO   \n",
       "4    2409 N WESTERN AVE                    CHICAGO CUPCAKE  CHICAGO   \n",
       "\n",
       "                                   dba_name          facility_type  \\\n",
       "0          RED SNAPPER FISH CHICKEN & PIZZA             Restaurant   \n",
       "1                          TAQUERIA MORELOS             Restaurant   \n",
       "2  HAMBURGER MARY'S CHICAGO/MARY'S REC ROOM             Restaurant   \n",
       "3                      Wells Street Popcorn             Restaurant   \n",
       "4                      CHICAGO CUPCAKE LLC.  Mobile Food Dispenser   \n",
       "\n",
       "           inspection_date  inspection_id        inspection_type   latitude  \\\n",
       "0  2016-09-26T00:00:00.000        1965287                Canvass  41.880237   \n",
       "1  2014-02-06T00:00:00.000        1329698                Canvass  41.931250   \n",
       "2  2010-12-03T00:00:00.000         470787                    SFP  41.979884   \n",
       "3  2010-02-01T00:00:00.000          68091                Canvass  41.932921   \n",
       "4  2013-05-03T00:00:00.000        1335320  License Re-Inspection  41.925218   \n",
       "\n",
       "    license_                                           location  longitude  \\\n",
       "0  1991820.0  {'type': 'Point', 'coordinates': [-87.75722039... -87.757220   \n",
       "1  2099479.0  {'type': 'Point', 'coordinates': [-87.77590699... -87.775907   \n",
       "2  1933748.0  {'type': 'Point', 'coordinates': [-87.66842948... -87.668429   \n",
       "3  1954774.0  {'type': 'Point', 'coordinates': [-87.64515454... -87.645155   \n",
       "4  2232391.0  {'type': 'Point', 'coordinates': [-87.68750659... -87.687507   \n",
       "\n",
       "              results             risk state  \\\n",
       "0  Pass w/ Conditions    Risk 1 (High)    IL   \n",
       "1                Pass    Risk 1 (High)    IL   \n",
       "2                Fail    Risk 1 (High)    IL   \n",
       "3                Pass  Risk 2 (Medium)    IL   \n",
       "4                Fail     Risk 3 (Low)    IL   \n",
       "\n",
       "                                          violations      zip  \n",
       "0  35. WALLS, CEILINGS, ATTACHED EQUIPMENT CONSTR...  60644.0  \n",
       "1  33. FOOD AND NON-FOOD CONTACT EQUIPMENT UTENSI...  60639.0  \n",
       "2  6. HANDS WASHED AND CLEANED, GOOD HYGIENIC PRA...  60640.0  \n",
       "3                                                NaN  60657.0  \n",
       "4  32. FOOD AND NON-FOOD CONTACT SURFACES PROPERL...  60647.0  "
      ]
     },
     "execution_count": 15,
     "metadata": {},
     "output_type": "execute_result"
    }
   ],
   "source": [
    "# check this shit out\n",
    "dta.head()"
   ]
  },
  {
   "cell_type": "code",
   "execution_count": 33,
   "metadata": {},
   "outputs": [
    {
     "name": "stdout",
     "output_type": "stream",
     "text": [
      "<class 'pandas.core.frame.DataFrame'>\n",
      "Int64Index: 25000 entries, 1965287 to 413268\n",
      "Data columns (total 16 columns):\n",
      "address            25000 non-null object\n",
      "aka_name           24709 non-null object\n",
      "city               24981 non-null object\n",
      "dba_name           25000 non-null object\n",
      "facility_type      24787 non-null object\n",
      "inspection_date    25000 non-null datetime64[ns]\n",
      "inspection_type    25000 non-null object\n",
      "latitude           24865 non-null float64\n",
      "license_           24996 non-null float64\n",
      "location           24865 non-null object\n",
      "longitude          24865 non-null float64\n",
      "results            25000 non-null object\n",
      "risk               24995 non-null object\n",
      "state              24994 non-null object\n",
      "violations         23908 non-null object\n",
      "zip                24990 non-null float64\n",
      "dtypes: datetime64[ns](1), float64(4), object(11)\n",
      "memory usage: 3.9+ MB\n"
     ]
    }
   ],
   "source": [
    "# our we can get more general info\n",
    "dta.info()"
   ]
  },
  {
   "cell_type": "code",
   "execution_count": 16,
   "metadata": {},
   "outputs": [
    {
     "data": {
      "text/plain": [
       "RangeIndex(start=0, stop=25000, step=1)"
      ]
     },
     "execution_count": 16,
     "metadata": {},
     "output_type": "execute_result"
    }
   ],
   "source": [
    "# notice that the rows are labeled, but there's no natural index provided by the data as is:\n",
    "dta.index"
   ]
  },
  {
   "cell_type": "code",
   "execution_count": 24,
   "metadata": {},
   "outputs": [
    {
     "data": {
      "text/plain": [
       "Int64Index([1965287, 1329698,  470787,   68091, 1335320, 1228169, 1285582,\n",
       "             557486,   74468, 1522863,\n",
       "            ...\n",
       "            2059403,  114871,  657253,  531556,  325228, 2059771, 1965378,\n",
       "            1490395, 1326565,  413268],\n",
       "           dtype='int64', name='inspection_id', length=25000)"
      ]
     },
     "execution_count": 24,
     "metadata": {},
     "output_type": "execute_result"
    }
   ],
   "source": [
    "# but we can use the inspection_id as an index, so let's do that\n",
    "dta = dta.set_index('inspection_id')\n",
    "dta.index"
   ]
  },
  {
   "cell_type": "code",
   "execution_count": 18,
   "metadata": {},
   "outputs": [
    {
     "data": {
      "text/html": [
       "<div>\n",
       "<style scoped>\n",
       "    .dataframe tbody tr th:only-of-type {\n",
       "        vertical-align: middle;\n",
       "    }\n",
       "\n",
       "    .dataframe tbody tr th {\n",
       "        vertical-align: top;\n",
       "    }\n",
       "\n",
       "    .dataframe thead th {\n",
       "        text-align: right;\n",
       "    }\n",
       "</style>\n",
       "<table border=\"1\" class=\"dataframe\">\n",
       "  <thead>\n",
       "    <tr style=\"text-align: right;\">\n",
       "      <th></th>\n",
       "      <th>address</th>\n",
       "      <th>aka_name</th>\n",
       "      <th>city</th>\n",
       "      <th>dba_name</th>\n",
       "      <th>facility_type</th>\n",
       "      <th>inspection_date</th>\n",
       "      <th>inspection_type</th>\n",
       "      <th>latitude</th>\n",
       "      <th>license_</th>\n",
       "      <th>location</th>\n",
       "      <th>longitude</th>\n",
       "      <th>results</th>\n",
       "      <th>risk</th>\n",
       "      <th>state</th>\n",
       "      <th>violations</th>\n",
       "      <th>zip</th>\n",
       "    </tr>\n",
       "    <tr>\n",
       "      <th>inspection_id</th>\n",
       "      <th></th>\n",
       "      <th></th>\n",
       "      <th></th>\n",
       "      <th></th>\n",
       "      <th></th>\n",
       "      <th></th>\n",
       "      <th></th>\n",
       "      <th></th>\n",
       "      <th></th>\n",
       "      <th></th>\n",
       "      <th></th>\n",
       "      <th></th>\n",
       "      <th></th>\n",
       "      <th></th>\n",
       "      <th></th>\n",
       "      <th></th>\n",
       "    </tr>\n",
       "  </thead>\n",
       "  <tbody>\n",
       "    <tr>\n",
       "      <th>1965287</th>\n",
       "      <td>5255 W MADISON ST</td>\n",
       "      <td>RED SNAPPER FISH CHICKEN &amp; PIZZA</td>\n",
       "      <td>CHICAGO</td>\n",
       "      <td>RED SNAPPER FISH CHICKEN &amp; PIZZA</td>\n",
       "      <td>Restaurant</td>\n",
       "      <td>2016-09-26T00:00:00.000</td>\n",
       "      <td>Canvass</td>\n",
       "      <td>41.880237</td>\n",
       "      <td>1991820.0</td>\n",
       "      <td>{'type': 'Point', 'coordinates': [-87.75722039...</td>\n",
       "      <td>-87.757220</td>\n",
       "      <td>Pass w/ Conditions</td>\n",
       "      <td>Risk 1 (High)</td>\n",
       "      <td>IL</td>\n",
       "      <td>35. WALLS, CEILINGS, ATTACHED EQUIPMENT CONSTR...</td>\n",
       "      <td>60644.0</td>\n",
       "    </tr>\n",
       "    <tr>\n",
       "      <th>1329698</th>\n",
       "      <td>5958 W DIVERSEY AVE</td>\n",
       "      <td>TAQUERIA MORELOS</td>\n",
       "      <td>CHICAGO</td>\n",
       "      <td>TAQUERIA MORELOS</td>\n",
       "      <td>Restaurant</td>\n",
       "      <td>2014-02-06T00:00:00.000</td>\n",
       "      <td>Canvass</td>\n",
       "      <td>41.931250</td>\n",
       "      <td>2099479.0</td>\n",
       "      <td>{'type': 'Point', 'coordinates': [-87.77590699...</td>\n",
       "      <td>-87.775907</td>\n",
       "      <td>Pass</td>\n",
       "      <td>Risk 1 (High)</td>\n",
       "      <td>IL</td>\n",
       "      <td>33. FOOD AND NON-FOOD CONTACT EQUIPMENT UTENSI...</td>\n",
       "      <td>60639.0</td>\n",
       "    </tr>\n",
       "    <tr>\n",
       "      <th>470787</th>\n",
       "      <td>5400-5402 N CLARK ST</td>\n",
       "      <td>HAMBURGER MARY'S/MARY'S REC ROOM</td>\n",
       "      <td>CHICAGO</td>\n",
       "      <td>HAMBURGER MARY'S CHICAGO/MARY'S REC ROOM</td>\n",
       "      <td>Restaurant</td>\n",
       "      <td>2010-12-03T00:00:00.000</td>\n",
       "      <td>SFP</td>\n",
       "      <td>41.979884</td>\n",
       "      <td>1933748.0</td>\n",
       "      <td>{'type': 'Point', 'coordinates': [-87.66842948...</td>\n",
       "      <td>-87.668429</td>\n",
       "      <td>Fail</td>\n",
       "      <td>Risk 1 (High)</td>\n",
       "      <td>IL</td>\n",
       "      <td>6. HANDS WASHED AND CLEANED, GOOD HYGIENIC PRA...</td>\n",
       "      <td>60640.0</td>\n",
       "    </tr>\n",
       "    <tr>\n",
       "      <th>68091</th>\n",
       "      <td>2804 N CLARK ST</td>\n",
       "      <td>Wells Street Popcorn</td>\n",
       "      <td>CHICAGO</td>\n",
       "      <td>Wells Street Popcorn</td>\n",
       "      <td>Restaurant</td>\n",
       "      <td>2010-02-01T00:00:00.000</td>\n",
       "      <td>Canvass</td>\n",
       "      <td>41.932921</td>\n",
       "      <td>1954774.0</td>\n",
       "      <td>{'type': 'Point', 'coordinates': [-87.64515454...</td>\n",
       "      <td>-87.645155</td>\n",
       "      <td>Pass</td>\n",
       "      <td>Risk 2 (Medium)</td>\n",
       "      <td>IL</td>\n",
       "      <td>NaN</td>\n",
       "      <td>60657.0</td>\n",
       "    </tr>\n",
       "    <tr>\n",
       "      <th>1335320</th>\n",
       "      <td>2409 N WESTERN AVE</td>\n",
       "      <td>CHICAGO CUPCAKE</td>\n",
       "      <td>CHICAGO</td>\n",
       "      <td>CHICAGO CUPCAKE LLC.</td>\n",
       "      <td>Mobile Food Dispenser</td>\n",
       "      <td>2013-05-03T00:00:00.000</td>\n",
       "      <td>License Re-Inspection</td>\n",
       "      <td>41.925218</td>\n",
       "      <td>2232391.0</td>\n",
       "      <td>{'type': 'Point', 'coordinates': [-87.68750659...</td>\n",
       "      <td>-87.687507</td>\n",
       "      <td>Fail</td>\n",
       "      <td>Risk 3 (Low)</td>\n",
       "      <td>IL</td>\n",
       "      <td>32. FOOD AND NON-FOOD CONTACT SURFACES PROPERL...</td>\n",
       "      <td>60647.0</td>\n",
       "    </tr>\n",
       "  </tbody>\n",
       "</table>\n",
       "</div>"
      ],
      "text/plain": [
       "                             address                          aka_name  \\\n",
       "inspection_id                                                            \n",
       "1965287           5255 W MADISON ST   RED SNAPPER FISH CHICKEN & PIZZA   \n",
       "1329698         5958 W DIVERSEY AVE                   TAQUERIA MORELOS   \n",
       "470787         5400-5402 N CLARK ST   HAMBURGER MARY'S/MARY'S REC ROOM   \n",
       "68091               2804 N CLARK ST               Wells Street Popcorn   \n",
       "1335320          2409 N WESTERN AVE                    CHICAGO CUPCAKE   \n",
       "\n",
       "                  city                                  dba_name  \\\n",
       "inspection_id                                                      \n",
       "1965287        CHICAGO          RED SNAPPER FISH CHICKEN & PIZZA   \n",
       "1329698        CHICAGO                          TAQUERIA MORELOS   \n",
       "470787         CHICAGO  HAMBURGER MARY'S CHICAGO/MARY'S REC ROOM   \n",
       "68091          CHICAGO                      Wells Street Popcorn   \n",
       "1335320        CHICAGO                      CHICAGO CUPCAKE LLC.   \n",
       "\n",
       "                       facility_type          inspection_date  \\\n",
       "inspection_id                                                   \n",
       "1965287                   Restaurant  2016-09-26T00:00:00.000   \n",
       "1329698                   Restaurant  2014-02-06T00:00:00.000   \n",
       "470787                    Restaurant  2010-12-03T00:00:00.000   \n",
       "68091                     Restaurant  2010-02-01T00:00:00.000   \n",
       "1335320        Mobile Food Dispenser  2013-05-03T00:00:00.000   \n",
       "\n",
       "                     inspection_type   latitude   license_  \\\n",
       "inspection_id                                                \n",
       "1965287                      Canvass  41.880237  1991820.0   \n",
       "1329698                      Canvass  41.931250  2099479.0   \n",
       "470787                           SFP  41.979884  1933748.0   \n",
       "68091                        Canvass  41.932921  1954774.0   \n",
       "1335320        License Re-Inspection  41.925218  2232391.0   \n",
       "\n",
       "                                                        location  longitude  \\\n",
       "inspection_id                                                                 \n",
       "1965287        {'type': 'Point', 'coordinates': [-87.75722039... -87.757220   \n",
       "1329698        {'type': 'Point', 'coordinates': [-87.77590699... -87.775907   \n",
       "470787         {'type': 'Point', 'coordinates': [-87.66842948... -87.668429   \n",
       "68091          {'type': 'Point', 'coordinates': [-87.64515454... -87.645155   \n",
       "1335320        {'type': 'Point', 'coordinates': [-87.68750659... -87.687507   \n",
       "\n",
       "                          results             risk state  \\\n",
       "inspection_id                                              \n",
       "1965287        Pass w/ Conditions    Risk 1 (High)    IL   \n",
       "1329698                      Pass    Risk 1 (High)    IL   \n",
       "470787                       Fail    Risk 1 (High)    IL   \n",
       "68091                        Pass  Risk 2 (Medium)    IL   \n",
       "1335320                      Fail     Risk 3 (Low)    IL   \n",
       "\n",
       "                                                      violations      zip  \n",
       "inspection_id                                                              \n",
       "1965287        35. WALLS, CEILINGS, ATTACHED EQUIPMENT CONSTR...  60644.0  \n",
       "1329698        33. FOOD AND NON-FOOD CONTACT EQUIPMENT UTENSI...  60639.0  \n",
       "470787         6. HANDS WASHED AND CLEANED, GOOD HYGIENIC PRA...  60640.0  \n",
       "68091                                                        NaN  60657.0  \n",
       "1335320        32. FOOD AND NON-FOOD CONTACT SURFACES PROPERL...  60647.0  "
      ]
     },
     "execution_count": 18,
     "metadata": {},
     "output_type": "execute_result"
    }
   ],
   "source": [
    "dta.head()"
   ]
  },
  {
   "cell_type": "code",
   "execution_count": 19,
   "metadata": {},
   "outputs": [
    {
     "data": {
      "text/plain": [
       "inspection_id\n",
       "1965287                     5255 W MADISON ST \n",
       "1329698                   5958 W DIVERSEY AVE \n",
       "470787                   5400-5402 N CLARK ST \n",
       "68091                         2804 N CLARK ST \n",
       "1335320                    2409 N WESTERN AVE \n",
       "1228169    3481 S DR MARTIN LUTHER KING JR DR \n",
       "1285582              3201-3203 W ARMITAGE AVE \n",
       "557486              5215 W CHICAGO AVE BLDG E2\n",
       "74468                    4445 S Drexel (900E) \n",
       "1522863               3958 N NARRAGANSETT AVE \n",
       "1365288                   10-20 E DELAWARE ST \n",
       "1150454                   10123 S WESTERN AVE \n",
       "1453434                     81 E VAN BUREN ST \n",
       "1098457                 3615 W IRVING PARK RD \n",
       "1978957                       3042 N BROADWAY \n",
       "1971125                 3658 W IRVING PARK RD \n",
       "1434561                        932 N NOBLE ST \n",
       "606496                   9440 S LAFAYETTE AVE \n",
       "1322114                   2822 W MONTROSE AVE \n",
       "1434800                     4140 W Addison ST \n",
       "1096484                        701 S STATE ST \n",
       "1360289                     11601 W TOUHY AVE \n",
       "1448016                          60 E OHIO ST \n",
       "250608                      5897 N ELSTON AVE \n",
       "1324353                   1400 S JEFFERSON ST \n",
       "468107                     6560 S WESTERN AVE \n",
       "1948939                  730-732 W MAXWELL ST \n",
       "1751612                   2203 N CLYBOURN AVE \n",
       "606575                      208-210 W 87TH ST \n",
       "68160                         3200 N BROADWAY \n",
       "                          ...                 \n",
       "347209                          615 E 67TH ST \n",
       "1975445                   1439-1443 W 79TH ST \n",
       "1326783                     7622 N PAULINA ST \n",
       "1975775                    1105 W CHICAGO AVE \n",
       "612615                       15 W DELAWARE PL \n",
       "197247                         71 W MONROE ST \n",
       "413579                 1864 S BLUE ISLAND AVE \n",
       "2049615                         400 E 69TH ST \n",
       "1230080                     345 E SUPERIOR ST \n",
       "1393310                  724 W WRIGHTWOOD AVE \n",
       "1946768                     6262 N HARLEM AVE \n",
       "529379                         1943 W 51ST ST \n",
       "1464890                     1040 N Keeler AVE \n",
       "1182230                      2455 S DAMEN AVE \n",
       "1966555                  1305-1307 W 111TH ST \n",
       "1522771                   736 W FULLERTON AVE \n",
       "626394                         2600 W 47TH ST \n",
       "120509                        111 S MORGAN ST \n",
       "604507                        6950 N Hiawatha \n",
       "1184322                        501 S WELLS ST \n",
       "2059403                       6332 N BROADWAY \n",
       "114871                   224-226 S WABASH AVE \n",
       "657253                          207 E 35TH ST \n",
       "531556                         1300 E 47TH ST \n",
       "325228                   301 E NORTH WATER ST \n",
       "2059771                       333 E BENTON PL \n",
       "1965378                         1664 N ADA ST \n",
       "1490395                  5451 S WENTWORTH AVE \n",
       "1326565               8524 S STONY ISLAND AVE \n",
       "413268                      518-520 E 79TH ST \n",
       "Name: address, Length: 25000, dtype: object"
      ]
     },
     "execution_count": 19,
     "metadata": {},
     "output_type": "execute_result"
    }
   ],
   "source": [
    "# access columns two ways:\n",
    "dta.address\n",
    "dta['address']"
   ]
  },
  {
   "cell_type": "code",
   "execution_count": 22,
   "metadata": {},
   "outputs": [
    {
     "data": {
      "text/plain": [
       "pandas.core.series.Series"
      ]
     },
     "execution_count": 22,
     "metadata": {},
     "output_type": "execute_result"
    }
   ],
   "source": [
    "# that's a Series\n",
    "type(dta.address)\n"
   ]
  },
  {
   "cell_type": "markdown",
   "metadata": {},
   "source": [
    "We can access rows in a DataFrame two ways:\n",
    "   * `loc` does label-based indexing\n",
    "   * `iloc` does integer-based indexing"
   ]
  },
  {
   "cell_type": "code",
   "execution_count": 25,
   "metadata": {},
   "outputs": [
    {
     "data": {
      "text/html": [
       "<div>\n",
       "<style scoped>\n",
       "    .dataframe tbody tr th:only-of-type {\n",
       "        vertical-align: middle;\n",
       "    }\n",
       "\n",
       "    .dataframe tbody tr th {\n",
       "        vertical-align: top;\n",
       "    }\n",
       "\n",
       "    .dataframe thead th {\n",
       "        text-align: right;\n",
       "    }\n",
       "</style>\n",
       "<table border=\"1\" class=\"dataframe\">\n",
       "  <thead>\n",
       "    <tr style=\"text-align: right;\">\n",
       "      <th></th>\n",
       "      <th>address</th>\n",
       "      <th>aka_name</th>\n",
       "      <th>city</th>\n",
       "      <th>dba_name</th>\n",
       "      <th>facility_type</th>\n",
       "      <th>inspection_date</th>\n",
       "      <th>inspection_type</th>\n",
       "      <th>latitude</th>\n",
       "      <th>license_</th>\n",
       "      <th>location</th>\n",
       "      <th>longitude</th>\n",
       "      <th>results</th>\n",
       "      <th>risk</th>\n",
       "      <th>state</th>\n",
       "      <th>violations</th>\n",
       "      <th>zip</th>\n",
       "    </tr>\n",
       "    <tr>\n",
       "      <th>inspection_id</th>\n",
       "      <th></th>\n",
       "      <th></th>\n",
       "      <th></th>\n",
       "      <th></th>\n",
       "      <th></th>\n",
       "      <th></th>\n",
       "      <th></th>\n",
       "      <th></th>\n",
       "      <th></th>\n",
       "      <th></th>\n",
       "      <th></th>\n",
       "      <th></th>\n",
       "      <th></th>\n",
       "      <th></th>\n",
       "      <th></th>\n",
       "      <th></th>\n",
       "    </tr>\n",
       "  </thead>\n",
       "  <tbody>\n",
       "    <tr>\n",
       "      <th>1965287</th>\n",
       "      <td>5255 W MADISON ST</td>\n",
       "      <td>RED SNAPPER FISH CHICKEN &amp; PIZZA</td>\n",
       "      <td>CHICAGO</td>\n",
       "      <td>RED SNAPPER FISH CHICKEN &amp; PIZZA</td>\n",
       "      <td>Restaurant</td>\n",
       "      <td>2016-09-26T00:00:00.000</td>\n",
       "      <td>Canvass</td>\n",
       "      <td>41.880237</td>\n",
       "      <td>1991820.0</td>\n",
       "      <td>{'type': 'Point', 'coordinates': [-87.75722039...</td>\n",
       "      <td>-87.757220</td>\n",
       "      <td>Pass w/ Conditions</td>\n",
       "      <td>Risk 1 (High)</td>\n",
       "      <td>IL</td>\n",
       "      <td>35. WALLS, CEILINGS, ATTACHED EQUIPMENT CONSTR...</td>\n",
       "      <td>60644.0</td>\n",
       "    </tr>\n",
       "    <tr>\n",
       "      <th>470787</th>\n",
       "      <td>5400-5402 N CLARK ST</td>\n",
       "      <td>HAMBURGER MARY'S/MARY'S REC ROOM</td>\n",
       "      <td>CHICAGO</td>\n",
       "      <td>HAMBURGER MARY'S CHICAGO/MARY'S REC ROOM</td>\n",
       "      <td>Restaurant</td>\n",
       "      <td>2010-12-03T00:00:00.000</td>\n",
       "      <td>SFP</td>\n",
       "      <td>41.979884</td>\n",
       "      <td>1933748.0</td>\n",
       "      <td>{'type': 'Point', 'coordinates': [-87.66842948...</td>\n",
       "      <td>-87.668429</td>\n",
       "      <td>Fail</td>\n",
       "      <td>Risk 1 (High)</td>\n",
       "      <td>IL</td>\n",
       "      <td>6. HANDS WASHED AND CLEANED, GOOD HYGIENIC PRA...</td>\n",
       "      <td>60640.0</td>\n",
       "    </tr>\n",
       "  </tbody>\n",
       "</table>\n",
       "</div>"
      ],
      "text/plain": [
       "                             address                          aka_name  \\\n",
       "inspection_id                                                            \n",
       "1965287           5255 W MADISON ST   RED SNAPPER FISH CHICKEN & PIZZA   \n",
       "470787         5400-5402 N CLARK ST   HAMBURGER MARY'S/MARY'S REC ROOM   \n",
       "\n",
       "                  city                                  dba_name  \\\n",
       "inspection_id                                                      \n",
       "1965287        CHICAGO          RED SNAPPER FISH CHICKEN & PIZZA   \n",
       "470787         CHICAGO  HAMBURGER MARY'S CHICAGO/MARY'S REC ROOM   \n",
       "\n",
       "              facility_type          inspection_date inspection_type  \\\n",
       "inspection_id                                                          \n",
       "1965287          Restaurant  2016-09-26T00:00:00.000         Canvass   \n",
       "470787           Restaurant  2010-12-03T00:00:00.000             SFP   \n",
       "\n",
       "                latitude   license_  \\\n",
       "inspection_id                         \n",
       "1965287        41.880237  1991820.0   \n",
       "470787         41.979884  1933748.0   \n",
       "\n",
       "                                                        location  longitude  \\\n",
       "inspection_id                                                                 \n",
       "1965287        {'type': 'Point', 'coordinates': [-87.75722039... -87.757220   \n",
       "470787         {'type': 'Point', 'coordinates': [-87.66842948... -87.668429   \n",
       "\n",
       "                          results           risk state  \\\n",
       "inspection_id                                            \n",
       "1965287        Pass w/ Conditions  Risk 1 (High)    IL   \n",
       "470787                       Fail  Risk 1 (High)    IL   \n",
       "\n",
       "                                                      violations      zip  \n",
       "inspection_id                                                              \n",
       "1965287        35. WALLS, CEILINGS, ATTACHED EQUIPMENT CONSTR...  60644.0  \n",
       "470787         6. HANDS WASHED AND CLEANED, GOOD HYGIENIC PRA...  60640.0  "
      ]
     },
     "execution_count": 25,
     "metadata": {},
     "output_type": "execute_result"
    }
   ],
   "source": [
    "dta.loc[[1965287, 470787]]"
   ]
  },
  {
   "cell_type": "code",
   "execution_count": 26,
   "metadata": {},
   "outputs": [
    {
     "data": {
      "text/html": [
       "<div>\n",
       "<style scoped>\n",
       "    .dataframe tbody tr th:only-of-type {\n",
       "        vertical-align: middle;\n",
       "    }\n",
       "\n",
       "    .dataframe tbody tr th {\n",
       "        vertical-align: top;\n",
       "    }\n",
       "\n",
       "    .dataframe thead th {\n",
       "        text-align: right;\n",
       "    }\n",
       "</style>\n",
       "<table border=\"1\" class=\"dataframe\">\n",
       "  <thead>\n",
       "    <tr style=\"text-align: right;\">\n",
       "      <th></th>\n",
       "      <th>address</th>\n",
       "      <th>aka_name</th>\n",
       "      <th>city</th>\n",
       "      <th>dba_name</th>\n",
       "      <th>facility_type</th>\n",
       "      <th>inspection_date</th>\n",
       "      <th>inspection_type</th>\n",
       "      <th>latitude</th>\n",
       "      <th>license_</th>\n",
       "      <th>location</th>\n",
       "      <th>longitude</th>\n",
       "      <th>results</th>\n",
       "      <th>risk</th>\n",
       "      <th>state</th>\n",
       "      <th>violations</th>\n",
       "      <th>zip</th>\n",
       "    </tr>\n",
       "    <tr>\n",
       "      <th>inspection_id</th>\n",
       "      <th></th>\n",
       "      <th></th>\n",
       "      <th></th>\n",
       "      <th></th>\n",
       "      <th></th>\n",
       "      <th></th>\n",
       "      <th></th>\n",
       "      <th></th>\n",
       "      <th></th>\n",
       "      <th></th>\n",
       "      <th></th>\n",
       "      <th></th>\n",
       "      <th></th>\n",
       "      <th></th>\n",
       "      <th></th>\n",
       "      <th></th>\n",
       "    </tr>\n",
       "  </thead>\n",
       "  <tbody>\n",
       "    <tr>\n",
       "      <th>1965287</th>\n",
       "      <td>5255 W MADISON ST</td>\n",
       "      <td>RED SNAPPER FISH CHICKEN &amp; PIZZA</td>\n",
       "      <td>CHICAGO</td>\n",
       "      <td>RED SNAPPER FISH CHICKEN &amp; PIZZA</td>\n",
       "      <td>Restaurant</td>\n",
       "      <td>2016-09-26T00:00:00.000</td>\n",
       "      <td>Canvass</td>\n",
       "      <td>41.880237</td>\n",
       "      <td>1991820.0</td>\n",
       "      <td>{'type': 'Point', 'coordinates': [-87.75722039...</td>\n",
       "      <td>-87.757220</td>\n",
       "      <td>Pass w/ Conditions</td>\n",
       "      <td>Risk 1 (High)</td>\n",
       "      <td>IL</td>\n",
       "      <td>35. WALLS, CEILINGS, ATTACHED EQUIPMENT CONSTR...</td>\n",
       "      <td>60644.0</td>\n",
       "    </tr>\n",
       "    <tr>\n",
       "      <th>470787</th>\n",
       "      <td>5400-5402 N CLARK ST</td>\n",
       "      <td>HAMBURGER MARY'S/MARY'S REC ROOM</td>\n",
       "      <td>CHICAGO</td>\n",
       "      <td>HAMBURGER MARY'S CHICAGO/MARY'S REC ROOM</td>\n",
       "      <td>Restaurant</td>\n",
       "      <td>2010-12-03T00:00:00.000</td>\n",
       "      <td>SFP</td>\n",
       "      <td>41.979884</td>\n",
       "      <td>1933748.0</td>\n",
       "      <td>{'type': 'Point', 'coordinates': [-87.66842948...</td>\n",
       "      <td>-87.668429</td>\n",
       "      <td>Fail</td>\n",
       "      <td>Risk 1 (High)</td>\n",
       "      <td>IL</td>\n",
       "      <td>6. HANDS WASHED AND CLEANED, GOOD HYGIENIC PRA...</td>\n",
       "      <td>60640.0</td>\n",
       "    </tr>\n",
       "  </tbody>\n",
       "</table>\n",
       "</div>"
      ],
      "text/plain": [
       "                             address                          aka_name  \\\n",
       "inspection_id                                                            \n",
       "1965287           5255 W MADISON ST   RED SNAPPER FISH CHICKEN & PIZZA   \n",
       "470787         5400-5402 N CLARK ST   HAMBURGER MARY'S/MARY'S REC ROOM   \n",
       "\n",
       "                  city                                  dba_name  \\\n",
       "inspection_id                                                      \n",
       "1965287        CHICAGO          RED SNAPPER FISH CHICKEN & PIZZA   \n",
       "470787         CHICAGO  HAMBURGER MARY'S CHICAGO/MARY'S REC ROOM   \n",
       "\n",
       "              facility_type          inspection_date inspection_type  \\\n",
       "inspection_id                                                          \n",
       "1965287          Restaurant  2016-09-26T00:00:00.000         Canvass   \n",
       "470787           Restaurant  2010-12-03T00:00:00.000             SFP   \n",
       "\n",
       "                latitude   license_  \\\n",
       "inspection_id                         \n",
       "1965287        41.880237  1991820.0   \n",
       "470787         41.979884  1933748.0   \n",
       "\n",
       "                                                        location  longitude  \\\n",
       "inspection_id                                                                 \n",
       "1965287        {'type': 'Point', 'coordinates': [-87.75722039... -87.757220   \n",
       "470787         {'type': 'Point', 'coordinates': [-87.66842948... -87.668429   \n",
       "\n",
       "                          results           risk state  \\\n",
       "inspection_id                                            \n",
       "1965287        Pass w/ Conditions  Risk 1 (High)    IL   \n",
       "470787                       Fail  Risk 1 (High)    IL   \n",
       "\n",
       "                                                      violations      zip  \n",
       "inspection_id                                                              \n",
       "1965287        35. WALLS, CEILINGS, ATTACHED EQUIPMENT CONSTR...  60644.0  \n",
       "470787         6. HANDS WASHED AND CLEANED, GOOD HYGIENIC PRA...  60640.0  "
      ]
     },
     "execution_count": 26,
     "metadata": {},
     "output_type": "execute_result"
    }
   ],
   "source": [
    "dta.iloc[[0,2]]"
   ]
  },
  {
   "cell_type": "markdown",
   "metadata": {},
   "source": [
    "That's data selection; how about cleaning up this data?  Like changing the inspection_date column from a string (object) to an actual datetime?"
   ]
  },
  {
   "cell_type": "code",
   "execution_count": 27,
   "metadata": {},
   "outputs": [
    {
     "data": {
      "text/plain": [
       "address             object\n",
       "aka_name            object\n",
       "city                object\n",
       "dba_name            object\n",
       "facility_type       object\n",
       "inspection_date     object\n",
       "inspection_type     object\n",
       "latitude           float64\n",
       "license_           float64\n",
       "location            object\n",
       "longitude          float64\n",
       "results             object\n",
       "risk                object\n",
       "state               object\n",
       "violations          object\n",
       "zip                float64\n",
       "dtype: object"
      ]
     },
     "execution_count": 27,
     "metadata": {},
     "output_type": "execute_result"
    }
   ],
   "source": [
    "dta.dtypes"
   ]
  },
  {
   "cell_type": "code",
   "execution_count": 28,
   "metadata": {},
   "outputs": [
    {
     "data": {
      "text/plain": [
       "address                    object\n",
       "aka_name                   object\n",
       "city                       object\n",
       "dba_name                   object\n",
       "facility_type              object\n",
       "inspection_date    datetime64[ns]\n",
       "inspection_type            object\n",
       "latitude                  float64\n",
       "license_                  float64\n",
       "location                   object\n",
       "longitude                 float64\n",
       "results                    object\n",
       "risk                       object\n",
       "state                      object\n",
       "violations                 object\n",
       "zip                       float64\n",
       "dtype: object"
      ]
     },
     "execution_count": 28,
     "metadata": {},
     "output_type": "execute_result"
    }
   ],
   "source": [
    "dta.inspection_date = dta.inspection_date.apply(pd.to_datetime)\n",
    "dta.dtypes"
   ]
  },
  {
   "cell_type": "code",
   "execution_count": 32,
   "metadata": {},
   "outputs": [
    {
     "data": {
      "text/plain": [
       "inspection_id\n",
       "1965287   2016-09-26\n",
       "1329698   2014-02-06\n",
       "470787    2010-12-03\n",
       "68091     2010-02-01\n",
       "1335320   2013-05-03\n",
       "1228169   2013-09-16\n",
       "1285582   2012-09-27\n",
       "557486    2011-08-11\n",
       "74468     2010-05-26\n",
       "1522863   2015-02-10\n",
       "1365288   2013-09-26\n",
       "1150454   2012-06-11\n",
       "1453434   2014-07-21\n",
       "1098457   2012-07-20\n",
       "1978957   2017-01-05\n",
       "1971125   2016-11-09\n",
       "1434561   2014-04-04\n",
       "606496    2011-11-18\n",
       "1322114   2013-03-05\n",
       "1434800   2014-04-14\n",
       "1096484   2012-08-28\n",
       "1360289   2013-08-15\n",
       "1448016   2015-10-01\n",
       "250608    2010-06-07\n",
       "1324353   2013-03-12\n",
       "468107    2010-12-01\n",
       "1948939   2016-08-08\n",
       "1751612   2016-04-07\n",
       "606575    2012-02-03\n",
       "68160     2010-02-04\n",
       "             ...    \n",
       "347209    2010-07-26\n",
       "1975445   2016-11-15\n",
       "1326783   2013-04-08\n",
       "1975775   2016-11-21\n",
       "612615    2012-01-04\n",
       "197247    2010-02-03\n",
       "413579    2010-09-17\n",
       "2049615   2017-05-02\n",
       "1230080   2012-07-13\n",
       "1393310   2014-02-27\n",
       "1946768   2016-07-18\n",
       "529379    2011-11-04\n",
       "1464890   2015-05-08\n",
       "1182230   2012-04-03\n",
       "1966555   2016-10-17\n",
       "1522771   2015-02-09\n",
       "626394    2012-02-07\n",
       "120509    2010-06-24\n",
       "604507    2011-11-15\n",
       "1184322   2012-05-16\n",
       "2059403   2017-06-01\n",
       "114871    2011-04-07\n",
       "657253    2011-09-08\n",
       "531556    2011-09-09\n",
       "325228    2010-07-22\n",
       "2059771   2017-06-07\n",
       "1965378   2016-09-27\n",
       "1490395   2014-07-08\n",
       "1326565   2013-03-26\n",
       "413268    2010-09-10\n",
       "Name: inspection_date, Length: 25000, dtype: datetime64[ns]"
      ]
     },
     "execution_count": 32,
     "metadata": {},
     "output_type": "execute_result"
    }
   ],
   "source": [
    "dta.inspection_date"
   ]
  },
  {
   "cell_type": "code",
   "execution_count": 42,
   "metadata": {},
   "outputs": [
    {
     "data": {
      "text/plain": [
       "inspection_id\n",
       "1965287     9\n",
       "1329698     2\n",
       "470787     12\n",
       "68091       2\n",
       "1335320     5\n",
       "1228169     9\n",
       "1285582     9\n",
       "557486      8\n",
       "74468       5\n",
       "1522863     2\n",
       "1365288     9\n",
       "1150454     6\n",
       "1453434     7\n",
       "1098457     7\n",
       "1978957     1\n",
       "1971125    11\n",
       "1434561     4\n",
       "606496     11\n",
       "1322114     3\n",
       "1434800     4\n",
       "1096484     8\n",
       "1360289     8\n",
       "1448016    10\n",
       "250608      6\n",
       "1324353     3\n",
       "468107     12\n",
       "1948939     8\n",
       "1751612     4\n",
       "606575      2\n",
       "68160       2\n",
       "           ..\n",
       "347209      7\n",
       "1975445    11\n",
       "1326783     4\n",
       "1975775    11\n",
       "612615      1\n",
       "197247      2\n",
       "413579      9\n",
       "2049615     5\n",
       "1230080     7\n",
       "1393310     2\n",
       "1946768     7\n",
       "529379     11\n",
       "1464890     5\n",
       "1182230     4\n",
       "1966555    10\n",
       "1522771     2\n",
       "626394      2\n",
       "120509      6\n",
       "604507     11\n",
       "1184322     5\n",
       "2059403     6\n",
       "114871      4\n",
       "657253      9\n",
       "531556      9\n",
       "325228      7\n",
       "2059771     6\n",
       "1965378     9\n",
       "1490395     7\n",
       "1326565     3\n",
       "413268      9\n",
       "Name: inspection_date, Length: 25000, dtype: int64"
      ]
     },
     "execution_count": 42,
     "metadata": {},
     "output_type": "execute_result"
    }
   ],
   "source": [
    "# we want to use the methods provided by pandas to work with this data\n",
    "dta.inspection_date.dt.month"
   ]
  },
  {
   "cell_type": "code",
   "execution_count": 34,
   "metadata": {},
   "outputs": [
    {
     "data": {
      "text/plain": [
       "inspection_id\n",
       "1965287    Pass w/ Conditions\n",
       "1329698                  Pass\n",
       "470787                   Fail\n",
       "68091                    Pass\n",
       "1335320                  Fail\n",
       "1228169                  Pass\n",
       "1285582    Pass w/ Conditions\n",
       "557486                   Pass\n",
       "74468                    Pass\n",
       "1522863                  Pass\n",
       "1365288                  Pass\n",
       "1150454    Pass w/ Conditions\n",
       "1453434                  Pass\n",
       "1098457                  Pass\n",
       "1978957                  Pass\n",
       "1971125                  Pass\n",
       "1434561                  Pass\n",
       "606496                   Pass\n",
       "1322114                  Pass\n",
       "1434800                  Pass\n",
       "1096484                  Pass\n",
       "1360289                  Pass\n",
       "1448016                  Fail\n",
       "250608                   Pass\n",
       "1324353    Pass w/ Conditions\n",
       "468107                   Fail\n",
       "1948939                  Pass\n",
       "1751612                  Fail\n",
       "606575                   Fail\n",
       "68160                    Fail\n",
       "                  ...        \n",
       "347209                   Pass\n",
       "1975445                  Fail\n",
       "1326783                  Pass\n",
       "1975775                  Pass\n",
       "612615                   Pass\n",
       "197247                   Pass\n",
       "413579        Out of Business\n",
       "2049615                  Pass\n",
       "1230080                  Pass\n",
       "1393310    Pass w/ Conditions\n",
       "1946768                  Fail\n",
       "529379                   Pass\n",
       "1464890                  Pass\n",
       "1182230                  Pass\n",
       "1966555                  Pass\n",
       "1522771                  Pass\n",
       "626394                   Fail\n",
       "120509                   Pass\n",
       "604507                   Fail\n",
       "1184322                  Pass\n",
       "2059403                  Fail\n",
       "114871                   Pass\n",
       "657253     Pass w/ Conditions\n",
       "531556                   Pass\n",
       "325228                   Fail\n",
       "2059771                  Pass\n",
       "1965378                  Pass\n",
       "1490395                  Pass\n",
       "1326565                  Pass\n",
       "413268                   Pass\n",
       "Name: results, Length: 25000, dtype: object"
      ]
     },
     "execution_count": 34,
     "metadata": {},
     "output_type": "execute_result"
    }
   ],
   "source": [
    "# take a look at the results column:\n",
    "dta.results"
   ]
  },
  {
   "cell_type": "code",
   "execution_count": 35,
   "metadata": {},
   "outputs": [
    {
     "data": {
      "text/plain": [
       "Pass                    15915\n",
       "Fail                     5760\n",
       "Pass w/ Conditions       2931\n",
       "Out of Business           246\n",
       "No Entry                  107\n",
       "Not Ready                  40\n",
       "Business Not Located        1\n",
       "Name: results, dtype: int64"
      ]
     },
     "execution_count": 35,
     "metadata": {},
     "output_type": "execute_result"
    }
   ],
   "source": [
    "# this obviously contains a set of pre-determined values (not free form strings)\n",
    "# check out how we can see that:\n",
    "dta.results.value_counts()"
   ]
  },
  {
   "cell_type": "code",
   "execution_count": 36,
   "metadata": {},
   "outputs": [
    {
     "data": {
      "text/html": [
       "<div>\n",
       "<style scoped>\n",
       "    .dataframe tbody tr th:only-of-type {\n",
       "        vertical-align: middle;\n",
       "    }\n",
       "\n",
       "    .dataframe tbody tr th {\n",
       "        vertical-align: top;\n",
       "    }\n",
       "\n",
       "    .dataframe thead th {\n",
       "        text-align: right;\n",
       "    }\n",
       "</style>\n",
       "<table border=\"1\" class=\"dataframe\">\n",
       "  <thead>\n",
       "    <tr style=\"text-align: right;\">\n",
       "      <th></th>\n",
       "      <th>results</th>\n",
       "    </tr>\n",
       "    <tr>\n",
       "      <th>inspection_id</th>\n",
       "      <th></th>\n",
       "    </tr>\n",
       "  </thead>\n",
       "  <tbody>\n",
       "    <tr>\n",
       "      <th>1965287</th>\n",
       "      <td>Pass w/ Conditions</td>\n",
       "    </tr>\n",
       "    <tr>\n",
       "      <th>1329698</th>\n",
       "      <td>Pass</td>\n",
       "    </tr>\n",
       "    <tr>\n",
       "      <th>470787</th>\n",
       "      <td>Fail</td>\n",
       "    </tr>\n",
       "    <tr>\n",
       "      <th>68091</th>\n",
       "      <td>Pass</td>\n",
       "    </tr>\n",
       "    <tr>\n",
       "      <th>1335320</th>\n",
       "      <td>Fail</td>\n",
       "    </tr>\n",
       "    <tr>\n",
       "      <th>1228169</th>\n",
       "      <td>Pass</td>\n",
       "    </tr>\n",
       "    <tr>\n",
       "      <th>1285582</th>\n",
       "      <td>Pass w/ Conditions</td>\n",
       "    </tr>\n",
       "    <tr>\n",
       "      <th>557486</th>\n",
       "      <td>Pass</td>\n",
       "    </tr>\n",
       "    <tr>\n",
       "      <th>74468</th>\n",
       "      <td>Pass</td>\n",
       "    </tr>\n",
       "    <tr>\n",
       "      <th>1522863</th>\n",
       "      <td>Pass</td>\n",
       "    </tr>\n",
       "    <tr>\n",
       "      <th>1365288</th>\n",
       "      <td>Pass</td>\n",
       "    </tr>\n",
       "    <tr>\n",
       "      <th>1150454</th>\n",
       "      <td>Pass w/ Conditions</td>\n",
       "    </tr>\n",
       "    <tr>\n",
       "      <th>1453434</th>\n",
       "      <td>Pass</td>\n",
       "    </tr>\n",
       "    <tr>\n",
       "      <th>1098457</th>\n",
       "      <td>Pass</td>\n",
       "    </tr>\n",
       "    <tr>\n",
       "      <th>1978957</th>\n",
       "      <td>Pass</td>\n",
       "    </tr>\n",
       "    <tr>\n",
       "      <th>1971125</th>\n",
       "      <td>Pass</td>\n",
       "    </tr>\n",
       "    <tr>\n",
       "      <th>1434561</th>\n",
       "      <td>Pass</td>\n",
       "    </tr>\n",
       "    <tr>\n",
       "      <th>606496</th>\n",
       "      <td>Pass</td>\n",
       "    </tr>\n",
       "    <tr>\n",
       "      <th>1322114</th>\n",
       "      <td>Pass</td>\n",
       "    </tr>\n",
       "    <tr>\n",
       "      <th>1434800</th>\n",
       "      <td>Pass</td>\n",
       "    </tr>\n",
       "    <tr>\n",
       "      <th>1096484</th>\n",
       "      <td>Pass</td>\n",
       "    </tr>\n",
       "    <tr>\n",
       "      <th>1360289</th>\n",
       "      <td>Pass</td>\n",
       "    </tr>\n",
       "    <tr>\n",
       "      <th>1448016</th>\n",
       "      <td>Fail</td>\n",
       "    </tr>\n",
       "    <tr>\n",
       "      <th>250608</th>\n",
       "      <td>Pass</td>\n",
       "    </tr>\n",
       "    <tr>\n",
       "      <th>1324353</th>\n",
       "      <td>Pass w/ Conditions</td>\n",
       "    </tr>\n",
       "    <tr>\n",
       "      <th>468107</th>\n",
       "      <td>Fail</td>\n",
       "    </tr>\n",
       "    <tr>\n",
       "      <th>1948939</th>\n",
       "      <td>Pass</td>\n",
       "    </tr>\n",
       "    <tr>\n",
       "      <th>1751612</th>\n",
       "      <td>Fail</td>\n",
       "    </tr>\n",
       "    <tr>\n",
       "      <th>606575</th>\n",
       "      <td>Fail</td>\n",
       "    </tr>\n",
       "    <tr>\n",
       "      <th>68160</th>\n",
       "      <td>Fail</td>\n",
       "    </tr>\n",
       "    <tr>\n",
       "      <th>...</th>\n",
       "      <td>...</td>\n",
       "    </tr>\n",
       "    <tr>\n",
       "      <th>347209</th>\n",
       "      <td>Pass</td>\n",
       "    </tr>\n",
       "    <tr>\n",
       "      <th>1975445</th>\n",
       "      <td>Fail</td>\n",
       "    </tr>\n",
       "    <tr>\n",
       "      <th>1326783</th>\n",
       "      <td>Pass</td>\n",
       "    </tr>\n",
       "    <tr>\n",
       "      <th>1975775</th>\n",
       "      <td>Pass</td>\n",
       "    </tr>\n",
       "    <tr>\n",
       "      <th>612615</th>\n",
       "      <td>Pass</td>\n",
       "    </tr>\n",
       "    <tr>\n",
       "      <th>197247</th>\n",
       "      <td>Pass</td>\n",
       "    </tr>\n",
       "    <tr>\n",
       "      <th>413579</th>\n",
       "      <td>Out of Business</td>\n",
       "    </tr>\n",
       "    <tr>\n",
       "      <th>2049615</th>\n",
       "      <td>Pass</td>\n",
       "    </tr>\n",
       "    <tr>\n",
       "      <th>1230080</th>\n",
       "      <td>Pass</td>\n",
       "    </tr>\n",
       "    <tr>\n",
       "      <th>1393310</th>\n",
       "      <td>Pass w/ Conditions</td>\n",
       "    </tr>\n",
       "    <tr>\n",
       "      <th>1946768</th>\n",
       "      <td>Fail</td>\n",
       "    </tr>\n",
       "    <tr>\n",
       "      <th>529379</th>\n",
       "      <td>Pass</td>\n",
       "    </tr>\n",
       "    <tr>\n",
       "      <th>1464890</th>\n",
       "      <td>Pass</td>\n",
       "    </tr>\n",
       "    <tr>\n",
       "      <th>1182230</th>\n",
       "      <td>Pass</td>\n",
       "    </tr>\n",
       "    <tr>\n",
       "      <th>1966555</th>\n",
       "      <td>Pass</td>\n",
       "    </tr>\n",
       "    <tr>\n",
       "      <th>1522771</th>\n",
       "      <td>Pass</td>\n",
       "    </tr>\n",
       "    <tr>\n",
       "      <th>626394</th>\n",
       "      <td>Fail</td>\n",
       "    </tr>\n",
       "    <tr>\n",
       "      <th>120509</th>\n",
       "      <td>Pass</td>\n",
       "    </tr>\n",
       "    <tr>\n",
       "      <th>604507</th>\n",
       "      <td>Fail</td>\n",
       "    </tr>\n",
       "    <tr>\n",
       "      <th>1184322</th>\n",
       "      <td>Pass</td>\n",
       "    </tr>\n",
       "    <tr>\n",
       "      <th>2059403</th>\n",
       "      <td>Fail</td>\n",
       "    </tr>\n",
       "    <tr>\n",
       "      <th>114871</th>\n",
       "      <td>Pass</td>\n",
       "    </tr>\n",
       "    <tr>\n",
       "      <th>657253</th>\n",
       "      <td>Pass w/ Conditions</td>\n",
       "    </tr>\n",
       "    <tr>\n",
       "      <th>531556</th>\n",
       "      <td>Pass</td>\n",
       "    </tr>\n",
       "    <tr>\n",
       "      <th>325228</th>\n",
       "      <td>Fail</td>\n",
       "    </tr>\n",
       "    <tr>\n",
       "      <th>2059771</th>\n",
       "      <td>Pass</td>\n",
       "    </tr>\n",
       "    <tr>\n",
       "      <th>1965378</th>\n",
       "      <td>Pass</td>\n",
       "    </tr>\n",
       "    <tr>\n",
       "      <th>1490395</th>\n",
       "      <td>Pass</td>\n",
       "    </tr>\n",
       "    <tr>\n",
       "      <th>1326565</th>\n",
       "      <td>Pass</td>\n",
       "    </tr>\n",
       "    <tr>\n",
       "      <th>413268</th>\n",
       "      <td>Pass</td>\n",
       "    </tr>\n",
       "  </tbody>\n",
       "</table>\n",
       "<p>25000 rows × 1 columns</p>\n",
       "</div>"
      ],
      "text/plain": [
       "                          results\n",
       "inspection_id                    \n",
       "1965287        Pass w/ Conditions\n",
       "1329698                      Pass\n",
       "470787                       Fail\n",
       "68091                        Pass\n",
       "1335320                      Fail\n",
       "1228169                      Pass\n",
       "1285582        Pass w/ Conditions\n",
       "557486                       Pass\n",
       "74468                        Pass\n",
       "1522863                      Pass\n",
       "1365288                      Pass\n",
       "1150454        Pass w/ Conditions\n",
       "1453434                      Pass\n",
       "1098457                      Pass\n",
       "1978957                      Pass\n",
       "1971125                      Pass\n",
       "1434561                      Pass\n",
       "606496                       Pass\n",
       "1322114                      Pass\n",
       "1434800                      Pass\n",
       "1096484                      Pass\n",
       "1360289                      Pass\n",
       "1448016                      Fail\n",
       "250608                       Pass\n",
       "1324353        Pass w/ Conditions\n",
       "468107                       Fail\n",
       "1948939                      Pass\n",
       "1751612                      Fail\n",
       "606575                       Fail\n",
       "68160                        Fail\n",
       "...                           ...\n",
       "347209                       Pass\n",
       "1975445                      Fail\n",
       "1326783                      Pass\n",
       "1975775                      Pass\n",
       "612615                       Pass\n",
       "197247                       Pass\n",
       "413579            Out of Business\n",
       "2049615                      Pass\n",
       "1230080                      Pass\n",
       "1393310        Pass w/ Conditions\n",
       "1946768                      Fail\n",
       "529379                       Pass\n",
       "1464890                      Pass\n",
       "1182230                      Pass\n",
       "1966555                      Pass\n",
       "1522771                      Pass\n",
       "626394                       Fail\n",
       "120509                       Pass\n",
       "604507                       Fail\n",
       "1184322                      Pass\n",
       "2059403                      Fail\n",
       "114871                       Pass\n",
       "657253         Pass w/ Conditions\n",
       "531556                       Pass\n",
       "325228                       Fail\n",
       "2059771                      Pass\n",
       "1965378                      Pass\n",
       "1490395                      Pass\n",
       "1326565                      Pass\n",
       "413268                       Pass\n",
       "\n",
       "[25000 rows x 1 columns]"
      ]
     },
     "execution_count": 36,
     "metadata": {},
     "output_type": "execute_result"
    }
   ],
   "source": [
    "# pretty cool, huh!  So why not treat some of these\n",
    "# columns like categories:\n",
    "dta.results = dta.results.astype('category')\n",
    "dta.select_dtypes(['category'])"
   ]
  },
  {
   "cell_type": "markdown",
   "metadata": {},
   "source": [
    "OK, now that we see how that works, let's do some data exploration.  We have health inspection code, so \n",
    "where are the best and worst places to eat?"
   ]
  },
  {
   "cell_type": "code",
   "execution_count": 55,
   "metadata": {},
   "outputs": [
    {
     "data": {
      "text/plain": [
       "dba_name\n",
       "SUBWAY                                                  42\n",
       "DUNKIN DONUTS                                           33\n",
       "MCDONALD'S                                              20\n",
       "HAROLD'S CHICKEN SHACK                                  14\n",
       "CHIPOTLE MEXICAN GRILL                                  11\n",
       "DUNKIN DONUTS / BASKIN ROBBINS                          10\n",
       "MCDONALDS                                                9\n",
       "POTBELLY SANDWICH WORKS LLC                              9\n",
       "POTBELLY SANDWICH WORKS                                  9\n",
       "7-ELEVEN                                                 9\n",
       "JIMMY JOHNS                                              8\n",
       "LAS ISLAS MARIAS                                         8\n",
       "KFC                                                      7\n",
       "PIZZA HUT                                                7\n",
       "FRESHII                                                  6\n",
       "SHARKS FISH & CHICKEN                                    6\n",
       "OLD COUNTRY BUFFET                                       6\n",
       "HALSTED STREET DELI                                      6\n",
       "CORNER BAKERY CAFE                                       6\n",
       "EL TACONAZO RESTAURANT                                   6\n",
       "DUNKIN DONUTS/BASKIN ROBBINS                             6\n",
       "BAR LOUIE                                                6\n",
       "JEWEL FOOD STORE #3030                                   5\n",
       "THREE HAPPINESS RESTAURANT                               5\n",
       "THE NEW THREE HAPPINESS, INC                             5\n",
       "Subway                                                   5\n",
       "PAPA JOHN'S PIZZA                                        5\n",
       "NORMAN'S                                                 5\n",
       "McDONALD'S                                               5\n",
       "MCDONALD'S RESTAURANTS                                   5\n",
       "                                                        ..\n",
       "MIDWAY LOUNGE                                            1\n",
       "MIDORI JAPANESE RESTAURANT                               1\n",
       "MID WAY LIQUORS                                          1\n",
       "MID CITY VENDING CO                                      1\n",
       "MID AMERICA CARE CENTER                                  1\n",
       "MICHOACANA BAKERY, INC                                   1\n",
       "MICHIGAN QUICK MART INC                                  1\n",
       "MIA FRANCESCA CORP                                       1\n",
       "MI TIENDITA                                              1\n",
       "MI RANCHITO FOOD MARKET                                  1\n",
       "MI LINDO MEXICO MARKET, LLC                              1\n",
       "MFK                                                      1\n",
       "MEZZA                                                    1\n",
       "MEXICO CANDIES & FOOD                                    1\n",
       "MEDITERRANEAN EXPRESS                                    1\n",
       "MEXICANA RESTAURANT & PASTRY INC                         1\n",
       "METROPOLITIAN FAMILY SERVICES                            1\n",
       "METROPOLITAN FAMILY SERVICES MIDWAY CHILDCARE CENTER     1\n",
       "METROPOLITAN CLUB                                        1\n",
       "METHODIST HOSPITAL OF CHICAGO                            1\n",
       "MERRILL FOOD                                             1\n",
       "MERLA'S KITCHEN, LLC                                     1\n",
       "MERKLE'S BAR & GRILL                                     1\n",
       "MERCY'S TOBACCO                                          1\n",
       "MERCY HOME FOR BOYS AND GIRLS                            1\n",
       "MERCER 113                                               1\n",
       "MELLOS PEANUT COMPANY                                    1\n",
       "MEHRAB SUPER MARKET                                      1\n",
       "MEERATH KABAB                                            1\n",
       "HALSTED FOOD                                             1\n",
       "Name: dba_name, Length: 4424, dtype: int64"
      ]
     },
     "execution_count": 55,
     "metadata": {},
     "output_type": "execute_result"
    }
   ],
   "source": [
    "r = dta.groupby(dta.results).dba_name.value_counts()\n",
    "r[\"Fail\"].sort_values(ascending=False)"
   ]
  },
  {
   "cell_type": "code",
   "execution_count": 58,
   "metadata": {},
   "outputs": [
    {
     "data": {
      "text/plain": [
       "0.1917808219178082"
      ]
     },
     "execution_count": 58,
     "metadata": {},
     "output_type": "execute_result"
    }
   ],
   "source": [
    "# now that's not too fair to subway, so what's the fail/pass ratio for subways?\n",
    "grouper = dta.groupby(dta.dba_name)\n",
    "subway = grouper.get_group(\"SUBWAY\")\n",
    "subway.results.value_counts()['Fail'] / subway.results.value_counts()['Pass']"
   ]
  },
  {
   "cell_type": "markdown",
   "metadata": {},
   "source": [
    "## Xarray"
   ]
  },
  {
   "cell_type": "markdown",
   "metadata": {},
   "source": [
    "## Astropy"
   ]
  },
  {
   "cell_type": "markdown",
   "metadata": {},
   "source": [
    "## Dask\n",
    "\n"
   ]
  },
  {
   "cell_type": "code",
   "execution_count": 1,
   "metadata": {},
   "outputs": [],
   "source": [
    "from time import sleep\n",
    "\n",
    "# make some functions that take time\n",
    "\n",
    "def inc(x):\n",
    "    sleep(1)\n",
    "    return x + 1\n",
    "\n",
    "def add(x, y):\n",
    "    sleep(1)\n",
    "    return x + y"
   ]
  },
  {
   "cell_type": "code",
   "execution_count": 2,
   "metadata": {},
   "outputs": [
    {
     "name": "stdout",
     "output_type": "stream",
     "text": [
      "CPU times: user 1 ms, sys: 1 ms, total: 2 ms\n",
      "Wall time: 3 s\n"
     ]
    }
   ],
   "source": [
    "%%time\n",
    "# this takes 3 seconds to run because we call each\n",
    "# function sequentially, one after the other\n",
    "x = inc(1)\n",
    "y = inc(2)\n",
    "z = add(x, y)"
   ]
  },
  {
   "cell_type": "code",
   "execution_count": 3,
   "metadata": {},
   "outputs": [],
   "source": [
    "from dask import delayed"
   ]
  },
  {
   "cell_type": "code",
   "execution_count": 4,
   "metadata": {},
   "outputs": [
    {
     "name": "stdout",
     "output_type": "stream",
     "text": [
      "CPU times: user 1 ms, sys: 0 ns, total: 1 ms\n",
      "Wall time: 6.62 ms\n"
     ]
    }
   ],
   "source": [
    "%%time\n",
    "# this runs immediately, all it does is build a task graph\n",
    "x = delayed(inc)(1)\n",
    "y = delayed(inc)(2)\n",
    "z = delayed(add)(x, y)"
   ]
  },
  {
   "cell_type": "code",
   "execution_count": 5,
   "metadata": {},
   "outputs": [
    {
     "name": "stdout",
     "output_type": "stream",
     "text": [
      "CPU times: user 6 ms, sys: 2 ms, total: 8 ms\n",
      "Wall time: 2.02 s\n"
     ]
    },
    {
     "data": {
      "text/plain": [
       "5"
      ]
     },
     "execution_count": 5,
     "metadata": {},
     "output_type": "execute_result"
    }
   ],
   "source": [
    "%%time\n",
    "# now we run it using a local thread pool\n",
    "z.compute()"
   ]
  },
  {
   "cell_type": "code",
   "execution_count": 6,
   "metadata": {},
   "outputs": [
    {
     "data": {
      "image/png": "[encoded data removed]",
      "text/plain": [
       "<IPython.core.display.Image object>"
      ]
     },
     "execution_count": 6,
     "metadata": {},
     "output_type": "execute_result"
    }
   ],
   "source": [
    "# why only 2 seconds?  We can see the task graph we made\n",
    "z.visualize()"
   ]
  },
  {
   "cell_type": "code",
   "execution_count": 7,
   "metadata": {
    "scrolled": true
   },
   "outputs": [
    {
     "name": "stdout",
     "output_type": "stream",
     "text": [
      "CPU times: user 7 ms, sys: 0 ns, total: 7 ms\n",
      "Wall time: 8.01 s\n"
     ]
    }
   ],
   "source": [
    "%%time\n",
    "# here's a more complicated example w/ out Dask\n",
    "data = range(8)\n",
    "results = []\n",
    "for x in data:\n",
    "    y = inc(x)\n",
    "    results.append(y)\n",
    "total = sum(results)    "
   ]
  },
  {
   "cell_type": "code",
   "execution_count": 8,
   "metadata": {},
   "outputs": [
    {
     "name": "stdout",
     "output_type": "stream",
     "text": [
      "CPU times: user 11 ms, sys: 4 ms, total: 15 ms\n",
      "Wall time: 4.13 s\n"
     ]
    }
   ],
   "source": [
    "%%time\n",
    "# here's the Dask version\n",
    "# TBF: on my machine this only 1/2's the time; why?\n",
    "from dask import delayed\n",
    "data = range(8)\n",
    "results = []\n",
    "for x in data:\n",
    "    y = delayed(inc)(x)\n",
    "    results.append(y)\n",
    "total = delayed(sum)(results)\n",
    "total.compute()\n",
    "total.visualize()"
   ]
  },
  {
   "cell_type": "code",
   "execution_count": 10,
   "metadata": {},
   "outputs": [
    {
     "data": {
      "image/png": "[encoded data removed]",
      "text/plain": [
       "<IPython.core.display.Image object>"
      ]
     },
     "execution_count": 10,
     "metadata": {},
     "output_type": "execute_result"
    }
   ],
   "source": [
    "total.visualize()"
   ]
  },
  {
   "cell_type": "markdown",
   "metadata": {},
   "source": [
    "## Jupyter\n",
    "\n",
    "You are looking at this in a Jupyter Notebook.  You can get a single-user server setup pretty quickly for this.  Simply install jupyter in your virtual env., and then run 'jupyter notebook'.  Go to localhost:8888 by default and you're off.  That's how I got this notebook started.\n",
    "\n",
    "But sharing that new notebook is a little more complicated.  Right now I'm trying to get this done by installing Jupyter Hub."
   ]
  },
  {
   "cell_type": "code",
   "execution_count": null,
   "metadata": {},
   "outputs": [],
   "source": []
  }
 ],
 "metadata": {
  "kernelspec": {
   "display_name": "Python 3",
   "language": "python",
   "name": "python3"
  },
  "language_info": {
   "codemirror_mode": {
    "name": "ipython",
    "version": 3
   },
   "file_extension": ".py",
   "mimetype": "text/x-python",
   "name": "python",
   "nbconvert_exporter": "python",
   "pygments_lexer": "ipython3",
   "version": "3.5.2"
  }
 },
 "nbformat": 4,
 "nbformat_minor": 2
}
